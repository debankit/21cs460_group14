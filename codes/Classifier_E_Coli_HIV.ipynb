{
  "nbformat": 4,
  "nbformat_minor": 0,
  "metadata": {
    "colab": {
      "name": "Classifier_E-Coli_HIV.ipynb",
      "provenance": []
    },
    "kernelspec": {
      "name": "python3",
      "display_name": "Python 3"
    },
    "language_info": {
      "name": "python"
    }
  },
  "cells": [
    {
      "cell_type": "markdown",
      "metadata": {
        "id": "kwerH2nIWIJk"
      },
      "source": [
        "Here we have checked for datasets which contains data for two microbes, thereby diseases. We have collected the data for E-Coli and HIV. The active inhibitors are labelled as 1 and 2 respectively. The inactive ones are labelled as -1.\n"
      ]
    },
    {
      "cell_type": "code",
      "metadata": {
        "id": "fitGTRU4Gk2f"
      },
      "source": [
        "# Importing different libraries\n",
        "import pandas as pd\n",
        "import numpy as np\n",
        "import matplotlib.pyplot as plt\n",
        "import statsmodels.api as sm\n",
        "\n",
        "# sklearn library\n",
        "from sklearn.preprocessing import StandardScaler\n",
        "from sklearn.pipeline import make_pipeline\n",
        "from sklearn import metrics\n",
        "from sklearn.metrics import confusion_matrix\n",
        "from sklearn.metrics import f1_score\n",
        "from sklearn.model_selection import train_test_split\n",
        "\n",
        "from sklearn.tree import DecisionTreeClassifier\n",
        "from sklearn.naive_bayes import GaussianNB\n",
        "from sklearn.ensemble import RandomForestClassifier\n",
        "from sklearn.svm import SVC\n",
        "from sklearn.linear_model import SGDClassifier"
      ],
      "execution_count": 2,
      "outputs": []
    },
    {
      "cell_type": "code",
      "metadata": {
        "id": "tKmCy-vwK5f2"
      },
      "source": [
        "# Matrix reading from the files\n",
        "def read_file(txt_file, mat_a):\n",
        "    file = open(txt_file, \"r\")\n",
        "    for line in file:\n",
        "        ns = line.split()\n",
        "        no = [float(n) for n in ns]\n",
        "        mat_a.append(no)\n",
        "    file.close()\n",
        "X = []\n",
        "Y = []\n",
        "read_file(\"E-coli_hiv_inhibitor.txt\", X)\n",
        "read_file(\"Activity on E-coli_hiv.txt\", Y)\n"
      ],
      "execution_count": 4,
      "outputs": []
    },
    {
      "cell_type": "code",
      "metadata": {
        "id": "nnzvLE2XMKMS"
      },
      "source": [
        "# Creating training and testing data\n",
        "X_train, X_test, Y_train, Y_test = train_test_split(X, Y, test_size=0.3, random_state=42)\n",
        "\n",
        "# Standardizing the data\n",
        "ss=StandardScaler()\n",
        "X_train_st=ss.fit_transform(X_train)\n",
        "X_test_st=ss.fit_transform(X_test)"
      ],
      "execution_count": 5,
      "outputs": []
    },
    {
      "cell_type": "code",
      "metadata": {
        "colab": {
          "base_uri": "https://localhost:8080/"
        },
        "id": "llY7fJcdMbRm",
        "outputId": "de8782a7-2a47-4c46-e80e-c26b313171c9"
      },
      "source": [
        "#Decision Tree Clasifier\n",
        "\n",
        "# Training Decision tree model\n",
        "DTClassifier=DecisionTreeClassifier(criterion='entropy', random_state=42)\n",
        "DTClassifier.fit(X_train,Y_train)\n",
        "\n",
        "# Testing\n",
        "Y_pred = DTClassifier.predict(X_test)\n",
        "\n",
        "# Accuracy of the model\n",
        "#\n",
        "print('The accuracy of decision tree is: ', metrics.accuracy_score(Y_pred,Y_test))\n",
        "\n",
        "# Different f1 scores\n",
        "print('F1 Score with macro average: ',f1_score(Y_test, Y_pred, average='macro'))\n",
        "print('F1 Score with micro average: ',f1_score(Y_test, Y_pred, average='micro'))\n",
        "print('F1 Score with weighted average: ',f1_score(Y_test, Y_pred, average='weighted'))"
      ],
      "execution_count": 6,
      "outputs": [
        {
          "output_type": "stream",
          "name": "stdout",
          "text": [
            "The accuracy of decision tree is:  0.8764607679465777\n",
            "F1 Score with macro average:  0.5608796296296296\n",
            "F1 Score with micro average:  0.8764607679465777\n",
            "F1 Score with weighted average:  0.8718736474370864\n"
          ]
        }
      ]
    },
    {
      "cell_type": "code",
      "metadata": {
        "colab": {
          "base_uri": "https://localhost:8080/"
        },
        "id": "HrOEExCMOQrq",
        "outputId": "1df51c3e-81d4-433b-a789-2f91d48bd19a"
      },
      "source": [
        "Y_train_np = np.array(Y_train)\n",
        "\n",
        "#Naive Bayes Classifier\n",
        "# Training the model\n",
        "NBClassifier=GaussianNB()\n",
        "NBClassifier.fit(X_train_st, Y_train_np.ravel())\n",
        "\n",
        "# Testing\n",
        "Y_pred1 = NBClassifier.predict(X_test)\n",
        "\n",
        "# Accuracy of the model\n",
        "print('The accuracy of Naive baise is: ', metrics.accuracy_score(Y_pred1, Y_test))\n",
        "\n",
        "# Different f1 scores\n",
        "print('F1 Score with macro average: ',f1_score(Y_test, Y_pred1, average='macro'))\n",
        "print('F1 Score with micro average: ',f1_score(Y_test, Y_pred1, average='micro'))\n",
        "print('F1 Score with weighted average: ',f1_score(Y_test, Y_pred1, average='weighted'))"
      ],
      "execution_count": 7,
      "outputs": [
        {
          "output_type": "stream",
          "name": "stdout",
          "text": [
            "The accuracy of Naive baise is:  0.8931552587646077\n",
            "F1 Score with macro average:  0.31452087007642565\n",
            "F1 Score with micro average:  0.8931552587646077\n",
            "F1 Score with weighted average:  0.8427479072999384\n"
          ]
        }
      ]
    },
    {
      "cell_type": "code",
      "metadata": {
        "colab": {
          "base_uri": "https://localhost:8080/"
        },
        "id": "KY2CYn5-RJle",
        "outputId": "929d1ad4-976d-483c-a771-d1a92e167785"
      },
      "source": [
        "#Random Forest Classifier Algorithm\n",
        "\n",
        "# Training the model\n",
        "model = RandomForestClassifier(n_estimators=10, random_state=25)\n",
        "model.fit(X_train, Y_train_np.ravel())\n",
        "\n",
        "# Testing\n",
        "Y_pred2 = model.predict(X_test)\n",
        "\n",
        "# Accuracy of the model\n",
        "print('The accuracy of Random Forest Classifier is: ', metrics.accuracy_score(Y_pred2,Y_test))\n",
        "\n",
        "# Different f1 scores\n",
        "print('F1 Score with macro average: ',f1_score(Y_test, Y_pred2, average='macro'))\n",
        "print('F1 Score with micro average: ',f1_score(Y_test, Y_pred2, average='micro'))\n",
        "print('F1 Score with weighted average: ',f1_score(Y_test, Y_pred2, average='weighted'))"
      ],
      "execution_count": 8,
      "outputs": [
        {
          "output_type": "stream",
          "name": "stdout",
          "text": [
            "The accuracy of Random Forest Classifier is:  0.9248747913188647\n",
            "F1 Score with macro average:  0.6893328805238291\n",
            "F1 Score with micro average:  0.9248747913188647\n",
            "F1 Score with weighted average:  0.9158002859431743\n"
          ]
        }
      ]
    },
    {
      "cell_type": "code",
      "metadata": {
        "colab": {
          "base_uri": "https://localhost:8080/"
        },
        "id": "ZXSWP9yzR48p",
        "outputId": "78cbcfe4-bd0f-4662-c238-40b7b4ddb697"
      },
      "source": [
        "#SVM \n",
        "\n",
        "# Training the model\n",
        "classifier_object = SVC(kernel ='linear', gamma='auto', C=2)\n",
        "classifier_object = SVC(probability=True)\n",
        "classifier_object.fit(X_train, Y_train_np.ravel())\n",
        "\n",
        "# Testing \n",
        "Y_pred3 = classifier_object.predict(X_test)\n",
        "\n",
        "# Accuracy of the model\n",
        "print('The accuracy of Support Vector Classifier is: ', metrics.accuracy_score(Y_pred3,Y_test))\n",
        "\n",
        "# Different f1 scores\n",
        "print('F1 Score with macro average: ',f1_score(Y_test, Y_pred3, average='macro'))\n",
        "print('F1 Score with micro average: ',f1_score(Y_test, Y_pred3, average='micro'))\n",
        "print('F1 Score with weighted average: ',f1_score(Y_test, Y_pred3, average='weighted'))"
      ],
      "execution_count": 13,
      "outputs": [
        {
          "output_type": "stream",
          "name": "stdout",
          "text": [
            "The accuracy of Support Vector Classifier is:  0.9081803005008348\n",
            "F1 Score with macro average:  0.488725185964723\n",
            "F1 Score with micro average:  0.9081803005008348\n",
            "F1 Score with weighted average:  0.8774386338150225\n"
          ]
        }
      ]
    },
    {
      "cell_type": "code",
      "metadata": {
        "colab": {
          "base_uri": "https://localhost:8080/"
        },
        "id": "Gk_S8FYqTTDX",
        "outputId": "1f5378d4-b825-43b8-c528-a2f811f99fca"
      },
      "source": [
        "# SGD model\n",
        "\n",
        "#Training the model\n",
        "classifier_Sgd = make_pipeline(StandardScaler(),SGDClassifier(max_iter=1000, tol=1e-3))\n",
        "classifier_Sgd.fit(X_train, Y_train_np.ravel())\n",
        "\n",
        "#Testing the model\n",
        "Y_pred4 = classifier_Sgd.predict(X_test)\n",
        "\n",
        "# Accuracy of the model\n",
        "print('The accuracy of Stochastic Gradient Descent Classifier is: ', metrics.accuracy_score(Y_pred4,Y_test))\n",
        "\n",
        "# Different f1 scores\n",
        "print('F1 Score with macro average: ',f1_score(Y_test, Y_pred4, average='macro'))\n",
        "print('F1 Score with micro average: ',f1_score(Y_test, Y_pred4, average='micro'))\n",
        "print('F1 Score with weighted average: ',f1_score(Y_test, Y_pred4, average='weighted'))"
      ],
      "execution_count": 11,
      "outputs": [
        {
          "output_type": "stream",
          "name": "stdout",
          "text": [
            "The accuracy of Stochastic Gradient Descent Classifier is:  0.8747913188647746\n",
            "F1 Score with macro average:  0.5268510563207118\n",
            "F1 Score with micro average:  0.8747913188647746\n",
            "F1 Score with weighted average:  0.8684764846766214\n"
          ]
        }
      ]
    }
  ]
}