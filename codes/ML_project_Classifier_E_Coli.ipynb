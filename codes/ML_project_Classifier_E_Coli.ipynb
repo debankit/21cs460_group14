{
  "nbformat": 4,
  "nbformat_minor": 0,
  "metadata": {
    "colab": {
      "name": "ML_project_Classifier_E-Coli.ipynb",
      "provenance": [],
      "collapsed_sections": []
    },
    "kernelspec": {
      "name": "python3",
      "display_name": "Python 3"
    },
    "language_info": {
      "name": "python"
    }
  },
  "cells": [
    {
      "cell_type": "markdown",
      "metadata": {
        "id": "kwerH2nIWIJk"
      },
      "source": [
        "Different models are compared with each other to test the activity of different small molecules on the E-Coli bacteria which causes Diarrhea, cholangitis, etc.\n",
        "\n",
        "\n",
        "The feature vectors contains the numbers of functional groups in the small molecules and the labels are done as 1 or -1 depending if they are active or inactive. A total of 146 features is taken for each small molecule."
      ]
    },
    {
      "cell_type": "code",
      "metadata": {
        "id": "fitGTRU4Gk2f"
      },
      "source": [
        "# Importing different libraries\n",
        "import pandas as pd\n",
        "import numpy as np\n",
        "import matplotlib.pyplot as plt\n",
        "import statsmodels.api as sm\n",
        "\n",
        "# sklearn library\n",
        "from sklearn.preprocessing import StandardScaler\n",
        "from sklearn.pipeline import make_pipeline\n",
        "from sklearn import metrics\n",
        "from sklearn.metrics import confusion_matrix\n",
        "from sklearn.metrics import f1_score\n",
        "from sklearn.model_selection import train_test_split\n",
        "\n",
        "from sklearn.tree import DecisionTreeClassifier\n",
        "from sklearn.naive_bayes import GaussianNB\n",
        "from sklearn.ensemble import RandomForestClassifier\n",
        "from sklearn.svm import SVC\n",
        "from sklearn.linear_model import SGDClassifier"
      ],
      "execution_count": 2,
      "outputs": []
    },
    {
      "cell_type": "code",
      "metadata": {
        "id": "tKmCy-vwK5f2"
      },
      "source": [
        "# Matrix reading from the files\n",
        "def read_file(txt_file, mat_a):\n",
        "    file = open(txt_file, \"r\")\n",
        "    for line in file:\n",
        "        ns = line.split()\n",
        "        no = [float(n) for n in ns]\n",
        "        mat_a.append(no)\n",
        "    file.close()\n",
        "X = []\n",
        "Y = []\n",
        "read_file(\"E-coli_inhibitor_smiles.txt\", X)\n",
        "read_file(\"Activity on E-coli.txt\", Y)\n"
      ],
      "execution_count": 3,
      "outputs": []
    },
    {
      "cell_type": "code",
      "metadata": {
        "id": "nnzvLE2XMKMS"
      },
      "source": [
        "# Creating training and testing data\n",
        "X_train, X_test, Y_train, Y_test = train_test_split(X, Y, test_size=0.3, random_state=42)\n",
        "\n",
        "# Standardizing the data\n",
        "ss=StandardScaler()\n",
        "X_train_st=ss.fit_transform(X_train)\n",
        "X_test_st=ss.fit_transform(X_test)"
      ],
      "execution_count": 4,
      "outputs": []
    },
    {
      "cell_type": "code",
      "metadata": {
        "colab": {
          "base_uri": "https://localhost:8080/"
        },
        "id": "llY7fJcdMbRm",
        "outputId": "5fdd119b-3d29-4c89-de3c-8ea122980eec"
      },
      "source": [
        "#Decision Tree Clasifier\n",
        "\n",
        "# Training Decision tree model\n",
        "DTClassifier=DecisionTreeClassifier(criterion='entropy', random_state=42)\n",
        "DTClassifier.fit(X_train,Y_train)\n",
        "\n",
        "# Testing\n",
        "Y_pred = DTClassifier.predict(X_test)\n",
        "\n",
        "# Accuracy of the model\n",
        "print('The accuracy of decision tree is: ', metrics.accuracy_score(Y_pred,Y_test))\n",
        "\n",
        "# Different f1 scores\n",
        "print('F1 Score with macro average: ',f1_score(Y_test, Y_pred, average='macro'))\n",
        "print('F1 Score with micro average: ',f1_score(Y_test, Y_pred, average='micro'))\n",
        "print('F1 Score with weighted average: ',f1_score(Y_test, Y_pred, average='weighted'))"
      ],
      "execution_count": 5,
      "outputs": [
        {
          "output_type": "stream",
          "name": "stdout",
          "text": [
            "The accuracy of decision tree is:  0.8733333333333333\n",
            "F1 Score with macro average:  0.707121570239441\n",
            "F1 Score with micro average:  0.8733333333333333\n",
            "F1 Score with weighted average:  0.8689206316582744\n"
          ]
        }
      ]
    },
    {
      "cell_type": "code",
      "metadata": {
        "colab": {
          "base_uri": "https://localhost:8080/"
        },
        "id": "HrOEExCMOQrq",
        "outputId": "e9a56543-ba61-438b-9101-5b36941a4226"
      },
      "source": [
        "Y_train_np = np.array(Y_train)\n",
        "\n",
        "#Naive Bayes Classifier\n",
        "# Training the model\n",
        "NBClassifier=GaussianNB()\n",
        "NBClassifier.fit(X_train_st, Y_train_np.ravel())\n",
        "\n",
        "# Testing\n",
        "Y_pred1 = NBClassifier.predict(X_test)\n",
        "\n",
        "# Accuracy of the model\n",
        "print('The accuracy of Naive baise is: ', metrics.accuracy_score(Y_pred1, Y_test))\n",
        "\n",
        "# Different f1 scores\n",
        "print('F1 Score with macro average: ',f1_score(Y_test, Y_pred1, average='macro'))\n",
        "print('F1 Score with micro average: ',f1_score(Y_test, Y_pred1, average='micro'))\n",
        "print('F1 Score with weighted average: ',f1_score(Y_test, Y_pred1, average='weighted'))"
      ],
      "execution_count": 6,
      "outputs": [
        {
          "output_type": "stream",
          "name": "stdout",
          "text": [
            "The accuracy of Naive baise is:  0.8666666666666667\n",
            "F1 Score with macro average:  0.4642857142857143\n",
            "F1 Score with micro average:  0.8666666666666667\n",
            "F1 Score with weighted average:  0.8047619047619048\n"
          ]
        }
      ]
    },
    {
      "cell_type": "code",
      "metadata": {
        "colab": {
          "base_uri": "https://localhost:8080/"
        },
        "id": "KY2CYn5-RJle",
        "outputId": "9675b80c-5e12-468b-cd58-d59b660739f8"
      },
      "source": [
        "#Random Forest Classifier Algorithm\n",
        "\n",
        "# Training the model\n",
        "model = RandomForestClassifier(n_estimators=10, random_state=25)\n",
        "model.fit(X_train, Y_train_np.ravel())\n",
        "\n",
        "# Testing\n",
        "Y_pred2 = model.predict(X_test)\n",
        "\n",
        "# Accuracy of the model\n",
        "print('The accuracy of Random Forest Classifier is: ', metrics.accuracy_score(Y_pred2,Y_test))\n",
        "\n",
        "# Different f1 scores\n",
        "print('F1 Score with macro average: ',f1_score(Y_test, Y_pred2, average='macro'))\n",
        "print('F1 Score with micro average: ',f1_score(Y_test, Y_pred2, average='micro'))\n",
        "print('F1 Score with weighted average: ',f1_score(Y_test, Y_pred2, average='weighted'))"
      ],
      "execution_count": 7,
      "outputs": [
        {
          "output_type": "stream",
          "name": "stdout",
          "text": [
            "The accuracy of Random Forest Classifier is:  0.8966666666666666\n",
            "F1 Score with macro average:  0.7086374886431279\n",
            "F1 Score with micro average:  0.8966666666666666\n",
            "F1 Score with weighted average:  0.8802823814446987\n"
          ]
        }
      ]
    },
    {
      "cell_type": "code",
      "metadata": {
        "colab": {
          "base_uri": "https://localhost:8080/"
        },
        "id": "ZXSWP9yzR48p",
        "outputId": "e1ffa60f-8553-43c8-a3ba-f69417e19b64"
      },
      "source": [
        "#SVM \n",
        "\n",
        "# Training the model\n",
        "classifier_object = SVC(kernel ='linear', gamma='auto', C=2)\n",
        "classifier_object = SVC(probability=True)\n",
        "classifier_object.fit(X_train, Y_train_np.ravel())\n",
        "\n",
        "# Testing \n",
        "Y_pred3 = classifier_object.predict(X_test)\n",
        "\n",
        "# Accuracy of the model\n",
        "print('The accuracy of Support Vector Classifier is: ', metrics.accuracy_score(Y_pred3,Y_test))\n",
        "\n",
        "# Different f1 scores\n",
        "print('F1 Score with macro average: ',f1_score(Y_test, Y_pred3, average='macro'))\n",
        "print('F1 Score with micro average: ',f1_score(Y_test, Y_pred3, average='micro'))\n",
        "print('F1 Score with weighted average: ',f1_score(Y_test, Y_pred3, average='weighted'))"
      ],
      "execution_count": 8,
      "outputs": [
        {
          "output_type": "stream",
          "name": "stdout",
          "text": [
            "The accuracy of Support Vector Classifier is:  0.88\n",
            "F1 Score with macro average:  0.5585349901896665\n",
            "F1 Score with micro average:  0.88\n",
            "F1 Score with weighted average:  0.8347939829954218\n"
          ]
        }
      ]
    },
    {
      "cell_type": "code",
      "metadata": {
        "colab": {
          "base_uri": "https://localhost:8080/"
        },
        "id": "Gk_S8FYqTTDX",
        "outputId": "5cacc59d-4b85-4d60-e8eb-98f763e153ea"
      },
      "source": [
        "# SGD model\n",
        "\n",
        "#Training the model\n",
        "classifier_Sgd = make_pipeline(StandardScaler(),SGDClassifier(max_iter=1000, tol=1e-3))\n",
        "classifier_Sgd.fit(X_train, Y_train_np.ravel())\n",
        "\n",
        "#Testing the model\n",
        "Y_pred4 = classifier_Sgd.predict(X_test)\n",
        "\n",
        "# Accuracy of the model\n",
        "print('The accuracy of Stochastic Gradient Descent Classifier is: ', metrics.accuracy_score(Y_pred4,Y_test))\n",
        "\n",
        "# Different f1 scores\n",
        "print('F1 Score with macro average: ',f1_score(Y_test, Y_pred4, average='macro'))\n",
        "print('F1 Score with micro average: ',f1_score(Y_test, Y_pred4, average='micro'))\n",
        "print('F1 Score with weighted average: ',f1_score(Y_test, Y_pred4, average='weighted'))"
      ],
      "execution_count": 9,
      "outputs": [
        {
          "output_type": "stream",
          "name": "stdout",
          "text": [
            "The accuracy of Stochastic Gradient Descent Classifier is:  0.8433333333333334\n",
            "F1 Score with macro average:  0.6574260793508103\n",
            "F1 Score with micro average:  0.8433333333333335\n",
            "F1 Score with weighted average:  0.8424921240392949\n"
          ]
        }
      ]
    }
  ]
}